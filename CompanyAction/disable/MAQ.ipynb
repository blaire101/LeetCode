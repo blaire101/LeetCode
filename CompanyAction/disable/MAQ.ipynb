{
 "cells": [
  {
   "cell_type": "code",
   "execution_count": null,
   "id": "10343270-f09f-43ce-955b-5c8682d3ebeb",
   "metadata": {},
   "outputs": [],
   "source": [
    "customer_id\ttxn_date\ttxn_time\ttxn_amount\n",
    "A\t2022-11-17\t9am\t3\n",
    "A\t2021-10-16\t10am\t9\n",
    "A\t2023-07-20\t2pm\t1\n",
    "B\t2023-04-01\t12 am\t2\n",
    "B\t2021-12-13\t12pm\t10\n",
    "B\t2022-03-09\t4pm\t15\n",
    "B\t2021-10-16\t6am\t8\n",
    "B\t2021-10-16\t3pm\t2\n",
    " \n",
    "Identify customers with an average spend per day > 3"
   ]
  },
  {
   "cell_type": "code",
   "execution_count": null,
   "id": "dd7535b1-bd24-4e27-8b86-42b34278f376",
   "metadata": {},
   "outputs": [],
   "source": [
    "with daily_spend as (\n",
    "    select customer_id, \n",
    "            txn_date,\n",
    "            sum(txn_amount) as sum_spend\n",
    "            from transaction\n",
    "            group by customer_id, txn_date\n",
    ")\n",
    "\n",
    "select customer_id, \n",
    "        avg(sum_spend) as average_spend\n",
    "        from daily_spend\n",
    "        group by customer_id\n",
    "        having avg(sum_spend)>3"
   ]
  },
  {
   "cell_type": "code",
   "execution_count": null,
   "id": "93a8739d-57c1-470e-80a8-fd347bcc8e53",
   "metadata": {},
   "outputs": [],
   "source": [
    "How do get the average number of days between transactions for every customer"
   ]
  },
  {
   "cell_type": "code",
   "execution_count": null,
   "id": "842771aa-bbe2-457b-a2aa-c219c6884a9e",
   "metadata": {},
   "outputs": [],
   "source": [
    "with transaction_date as (\n",
    "    select customer_id, \n",
    "            txn_date,\n",
    "            lag(txn_date) over (partition by customer_id order by txn_date) as prev_transaction_date\n",
    "            from transaction\n",
    "),\n",
    "\n",
    "with date_diff as (\n",
    "    select customer_id, \n",
    "            date_diff(txn_date,prev_transaction_date) as date_between_transactions\n",
    "            from transaction_date\n",
    "            where prev_transaction_date is not NULL\n",
    ")\n",
    "\n",
    "select customer_id,\n",
    "    avg(date_between_transactions) as avg_days_transactions\n",
    "    from date_diff\n",
    "    group by customer_id"
   ]
  },
  {
   "cell_type": "code",
   "execution_count": null,
   "id": "8adec7dc-8773-44b4-a8be-10596670efd4",
   "metadata": {},
   "outputs": [],
   "source": [
    "A = [1, 2, 3, 4]\n",
    "B = [2, 4, 5, 6]\n",
    "C = [1, 3, 4, 9]\n",
    "D = [7, 4, 9, 10]\n",
    "Question - Find how many tuples are there that fulfils:\n",
    "A[i] + B[j] + C[k] = D[l]\n",
    "Example of a tuple: \n",
    "(1,2,1,4)  - A[0] + B[0] + C[0] = D[1]\n",
    "(2,2,3,7) - A[1] + B[0] + C[1] = D[0]"
   ]
  },
  {
   "cell_type": "code",
   "execution_count": null,
   "id": "3a7fac5c-6904-4d47-8e00-645a70194a09",
   "metadata": {},
   "outputs": [],
   "source": [
    "\n",
    "sum_AB = {}\n",
    "\n",
    "for i in range(len(A)):\n",
    "    for j in range(len(B)):\n",
    "        sum_AB[i+j] +=1\n",
    "\n",
    "count = 0\n",
    "for i in range(len(C)):\n",
    "    for j in range(len(D)):\n",
    "        target = D[j]-C[i]\n",
    "        if target in sum_AB:\n",
    "            count += sum_AB[target]\n"
   ]
  },
  {
   "cell_type": "code",
   "execution_count": null,
   "id": "5dc830a9-6551-4ed2-a41b-24f36a26a0df",
   "metadata": {},
   "outputs": [],
   "source": [
    "def check(col,common_words):\n",
    "     if col in common_words:\n",
    "        return 1\n",
    "    else \n",
    "       return 0\n",
    "\n",
    "common_words=[]\n",
    "check_udf = udf(lambda col:check(col,common_words),IntegerType())\n",
    "df = df.withColumn('after_checking',check_udf(df['before_checking'],common_words))\n"
   ]
  },
  {
   "cell_type": "code",
   "execution_count": null,
   "id": "1d030ced-68f1-4df3-b8dc-191449306eb0",
   "metadata": {},
   "outputs": [],
   "source": []
  }
 ],
 "metadata": {
  "kernelspec": {
   "display_name": "Python 3 (ipykernel)",
   "language": "python",
   "name": "python3"
  },
  "language_info": {
   "codemirror_mode": {
    "name": "ipython",
    "version": 3
   },
   "file_extension": ".py",
   "mimetype": "text/x-python",
   "name": "python",
   "nbconvert_exporter": "python",
   "pygments_lexer": "ipython3",
   "version": "3.11.8"
  }
 },
 "nbformat": 4,
 "nbformat_minor": 5
}
